{
 "cells": [
  {
   "cell_type": "code",
   "execution_count": null,
   "id": "1eb0e410",
   "metadata": {},
   "outputs": [],
   "source": [
    "import cv2\n",
    "\n",
    "cap = cv2.VideoCapture(0)\n",
    "face_cascade = cv2.CascadeClassifier(r\"C:\\Users\\lenovo\\Downloads\\haarcascade_frontalface_alt.xml\")\n",
    "\n",
    "while True : \n",
    "    ret,frame = cap.read() # ret is a bool vale ,frame is the video\n",
    "    gray_frame = cv2.cvtColor(frame,cv2.COLOR_BGR2GRAY)\n",
    "    \n",
    "    if ret==False:\n",
    "        continue\n",
    "    \n",
    "    faces = face_cascade.detectMultiScale(frame,1.3,5)\n",
    "    \n",
    "    for (x,y,w,h) in faces : \n",
    "         cv2.rectangle(frame,(x,y),(x+w,y+h),(255,0,0),2)\n",
    "            \n",
    "    cv2.imshow(\"Video Frame\",frame)\n",
    "            \n",
    "    #if user press 'q' the n break\n",
    "    key_pressed = cv2.waitKey(1) & 0xFF\n",
    "    if key_pressed == ord('q'):\n",
    "       break\n",
    "        \n",
    "cap.release()\n",
    "cv2.destoryAllWindows()"
   ]
  },
  {
   "cell_type": "code",
   "execution_count": null,
   "id": "3c1c7a4f",
   "metadata": {},
   "outputs": [],
   "source": []
  }
 ],
 "metadata": {
  "kernelspec": {
   "display_name": "Python 3 (ipykernel)",
   "language": "python",
   "name": "python3"
  },
  "language_info": {
   "codemirror_mode": {
    "name": "ipython",
    "version": 3
   },
   "file_extension": ".py",
   "mimetype": "text/x-python",
   "name": "python",
   "nbconvert_exporter": "python",
   "pygments_lexer": "ipython3",
   "version": "3.10.0"
  }
 },
 "nbformat": 4,
 "nbformat_minor": 5
}
